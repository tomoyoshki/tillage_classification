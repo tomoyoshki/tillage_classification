{
 "cells": [
  {
   "cell_type": "markdown",
   "metadata": {},
   "source": [
    "# Analysis"
   ]
  },
  {
   "cell_type": "markdown",
   "metadata": {},
   "source": [
    "## Imports"
   ]
  },
  {
   "cell_type": "code",
   "execution_count": null,
   "metadata": {},
   "outputs": [],
   "source": [
    "import torch\n",
    "import torch.nn as nn\n",
    "import torch.optim as optim\n",
    "from torch.optim import lr_scheduler\n",
    "import numpy as np\n",
    "import torchvision\n",
    "from torchvision import datasets, models, transforms\n",
    "from sklearn.utils import class_weight\n",
    "import matplotlib.pyplot as plt\n",
    "import time\n",
    "import os\n",
    "import PIL\n",
    "from sklearn.metrics import confusion_matrix, f1_score\n",
    "import seaborn as sn\n",
    "import pandas as pd\n",
    "import copy\n",
    "from collections import Counter\n",
    "\n",
    "PHASES = ['train', 'val', 'test']\n",
    "DATA_DIR = \"./corn_dataset\""
   ]
  },
  {
   "cell_type": "code",
   "execution_count": null,
   "metadata": {},
   "outputs": [],
   "source": [
    "image_datasets = {x: datasets.ImageFolder(os.path.join(DATA_DIR, x))\n",
    "                  for x in ['train', 'val', 'test']}\n",
    "                  \n",
    "dataloaders = {\n",
    "    'train': torch.utils.data.DataLoader(image_datasets['train'], batch_size=4,\n",
    "                                             shuffle=True, num_workers=4),\n",
    "    'val': torch.utils.data.DataLoader(image_datasets['val'], batch_size=4,\n",
    "                                             shuffle=False, num_workers=4),\n",
    "    'test': torch.utils.data.DataLoader(image_datasets['test'], batch_size=4,\n",
    "                                             shuffle=False, num_workers=4)\n",
    "}\n",
    "dataset_sizes = {x: len(image_datasets[x]) for x in ['train', 'val', 'test']}\n",
    "class_names = image_datasets['train']\n",
    "\n",
    "label_count = {x: image_datasets[x].targets for x in ['train', 'val', 'test']}\n",
    "distribution = {x: list(Counter(image_datasets[x].targets).values()) for x in ['train', 'val', 'test']}\n",
    "\n",
    "classes = image_datasets['train'].classes\n",
    "total_distribution = [distribution[x] for x in PHASES]\n",
    "df_cm = pd.DataFrame(total_distribution, index=PHASES, columns=classes)\n",
    "print(df_cm)\n",
    "\n",
    "device = torch.device(\"cuda:0\" if torch.cuda.is_available() else \"cpu\")"
   ]
  },
  {
   "cell_type": "markdown",
   "metadata": {},
   "source": [
    "## Load Model"
   ]
  },
  {
   "cell_type": "code",
   "execution_count": null,
   "metadata": {},
   "outputs": [],
   "source": [
    "model_ft = models.resnet18(pretrained=True)\n",
    "num_ftrs = model_ft.fc.in_features\n",
    "# Here the size of each output sample is set to 2.\n",
    "# Alternatively, it can be generalized to nn.Linear(num_ftrs, len(class_names)).\n",
    "for module, param in zip(model_ft.modules(), model_ft.parameters()):\n",
    "\tif isinstance(module, nn.BatchNorm2d):\n",
    "\t\tparam.requires_grad = False\n",
    "        \n",
    "num_ftrs = model_ft.fc.in_features\n",
    "model_ft.fc = nn.Linear(num_ftrs, 4)\n",
    "\n",
    "model_ft.load_state_dict(torch.load('./model_weight/corn_full5.pth'))\n",
    "model_ft.eval()\n",
    "\n",
    "device = torch.device(\"cuda:0\" if torch.cuda.is_available() else \"cpu\")\n",
    "model_ft.to(device)"
   ]
  },
  {
   "cell_type": "markdown",
   "metadata": {},
   "source": [
    "## Analysis"
   ]
  },
  {
   "cell_type": "markdown",
   "metadata": {},
   "source": [
    "### Analysis Helper Functions"
   ]
  },
  {
   "cell_type": "code",
   "execution_count": null,
   "metadata": {},
   "outputs": [],
   "source": [
    "def printResult(path, classes, output, percentage):\n",
    "    print(\"Less than threshold!\")\n",
    "    print(\"Full path: \", path)\n",
    "    print(\"True: \", classes)\n",
    "    print(\"Predicted: \", output)\n",
    "    print(\"Probability: \", percentage)\n",
    "    print(\"\\n\")\n",
    "\n",
    "def plotCM(y_true, y_pred, ax1, phase, threshold, plot_graph = False):\n",
    "    class_titles = ('grass', 'high_tillage', 'low_tillage', 'no_tillage')\n",
    "    cf_matrix = confusion_matrix(y_true, y_pred)\n",
    "    \n",
    "    if cf_matrix.shape[0] != 4 :\n",
    "        df_cm = pd.DataFrame((cf_matrix.T/np.sum(cf_matrix, axis=1)).T, index = [i for i in  ('grass', 'high_tillage', 'low_tillage')],\n",
    "                        columns = [i for i in  ('grass', 'high_tillage', 'low_tillage')])\n",
    "    else:\n",
    "        df_cm = pd.DataFrame((cf_matrix.T/np.sum(cf_matrix, axis=1)).T, index = [i for i in class_titles],\n",
    "                        columns = [i for i in class_titles])\n",
    "\n",
    "    total_correct = np.sum(cf_matrix.diagonal())\n",
    "    total = cf_matrix.sum()\n",
    "    accuracy = (total_correct * 1.0) / (total * 1.0)\n",
    "    print(\"Number of correct data: \", total_correct)\n",
    "    print(\"Total number of data: \", total)\n",
    "    print(\"Accuracy: \", (total_correct * 1.0) / (total * 1.0))\n",
    "\n",
    "    if plot_graph:\n",
    "        if threshold == -1:\n",
    "            ax1.set_title('%s Confusion Matrix: Tillage Classification without threshold' % (phase))\n",
    "        else:\n",
    "            print(cf_matrix)\n",
    "            # ax1.set_title('%s Confusion Matrix: Tillage Classification with threshold %f' % (phase, threshold))\n",
    "            plt.title('%s Confusion Matrix: Tillage Classification with threshold %f' % (phase, threshold))\n",
    "            # ax1.savefig('%s_confusion_matrix_threshold_%d_.png' % (phase, threshold * 10))\n",
    "        sn.heatmap(df_cm, ax=ax1, annot=True)\n",
    "\n",
    "    return accuracy, total\n",
    "\n",
    "    \n",
    "def plotThreshold(threshold_high_correct, threshold_high_wrong, threshold_low_correct, threshold_low_wrong, ax1, phase, threshold, plot_graph = False):\n",
    "    labels = 'Threshold High Correct', 'Threshold High Wrong', 'Threshold Low Correct', 'Threshold Low Wrong'\n",
    "    sizes = [threshold_high_correct, threshold_high_wrong, threshold_low_correct, threshold_low_wrong]\n",
    "    explode = (0, 0, 0, 0)  # only \"explode\" the 2nd slice (i.e. 'Hogs')\n",
    "\n",
    "    if plot_graph:\n",
    "    # fig1, ax1 = plt.subplots()\n",
    "        ax1.pie(sizes, explode=explode, labels=labels, autopct='%1.1f%%',\n",
    "                shadow=True, startangle=90)\n",
    "        ax1.axis('equal')  # Equal aspect ratio ensures that pie is drawn as a circle.\n",
    "        ax1.set_title(\"Percentage analysis for %s with threshold of %f\" % (phase, threshold))\n",
    "        # ax1.savefig('%s_pie_threshold_%d_.png' % (phase, threshold * 10))\n",
    "        plt.show()  \n",
    "    # print(\"Higher than threshold correct: \", threshold_high_correct)\n",
    "    # print(\"Higher than threshold wrong: \", threshold_high_wrong)\n",
    "    # print(\"Lower than threshold correct: \", threshold_low_correct)\n",
    "    # print(\"Lower than threshold wrong: \", threshold_low_wrong)\n",
    "    "
   ]
  },
  {
   "cell_type": "code",
   "execution_count": null,
   "metadata": {},
   "outputs": [],
   "source": [
    "image_data_transforms = transforms.Compose([\n",
    "        transforms.Resize((576, 768), antialias=True),\n",
    "        transforms.ToTensor(),\n",
    "        transforms.Normalize([0.485, 0.456, 0.406], [0.229, 0.224, 0.225])\n",
    "])\n",
    "\n",
    "# thresholds = [0.5, 0.6, 0.7, 0.8, 0.9, 0.95]\n",
    "\n",
    "def thresholdAnalysis(threshold_value, plot_graph = False):\n",
    "    class_map = {\n",
    "        0: 'grass',\n",
    "        1: 'high_tillage',\n",
    "        2: 'low_tillage',\n",
    "        3: 'no_tillage'\n",
    "    }\n",
    "\n",
    "    acc, f_scores, supports = [], [], []\n",
    "\n",
    "    # for folders in os.listdir(data_dir):\n",
    "    for folders in [\"train\", \"val\", \"test\"]:\n",
    "        print(folders)\n",
    "        y_pred = []\n",
    "        y_true = []\n",
    "\n",
    "        y_pred_threshold = []\n",
    "        y_true_threshold = []\n",
    "\n",
    "        threshold_low_wrong = 0\n",
    "        threshold_low_correct = 0\n",
    "        threshold_high_wrong = 0\n",
    "        threshold_high_correct = 0\n",
    "\n",
    "        for classes in os.listdir(\"%s/\" % (DATA_DIR) + folders):\n",
    "            for files in os.listdir(\"%s/%s/%s/\" %(DATA_DIR, folders, classes)):\n",
    "                fullpath = DATA_DIR + \"/\" + folders + \"/\" + classes + \"/\" + files\n",
    "                \n",
    "                im = PIL.Image.open(fullpath)\n",
    "                image = image_data_transforms(im)\n",
    "                image = image.unsqueeze(0)\n",
    "                image = image.to(device)\n",
    "                out = model_ft(image)\n",
    "                output = class_map[(torch.max(torch.exp(out), 1)[1]).data.cpu().numpy()[0]]\n",
    "\n",
    "\n",
    "                y_pred.append(output)\n",
    "                y_true.append(classes)\n",
    "\n",
    "                out_val = torch.exp(out).data.cpu().numpy()\n",
    "                percentage = np.around(out_val/ np.sum(out_val), 2)\n",
    "\n",
    "                max_percentage = np.max(percentage)\n",
    "                pred = np.argmax(percentage)\n",
    "\n",
    "                if max_percentage < threshold_value:\n",
    "                    if output != classes:\n",
    "                        # printResult(fullpath, classes, output, percentage)\n",
    "                        threshold_low_wrong += 1\n",
    "                    else:\n",
    "                        threshold_low_correct += 1\n",
    "                else:\n",
    "                    y_pred_threshold.append(output)\n",
    "                    y_true_threshold.append(classes)\n",
    "                    if output != classes:\n",
    "                        if threshold_value >= 0.8:\n",
    "                            printResult(fullpath, classes, output, percentage)\n",
    "                        threshold_high_wrong += 1\n",
    "                    else:\n",
    "                        threshold_high_correct += 1\n",
    "        \n",
    "        # Build confusion matrix\n",
    "        if plot_graph:\n",
    "            # fig, (ax2, ax3) = plt.subplots(2, 1, figsize=(7,12), gridspec_kw={'height_ratios': [5, 5]})\n",
    "            plt.figure(figsize = (7, 7))\n",
    "        else:\n",
    "            ax2 = None\n",
    "            ax3 = None\n",
    "        \n",
    "        ax2 = None\n",
    "        # plotCM(y_true, y_pred, ax1, folders, -1, plot_graph) \n",
    "        f_score = f1_score(y_true_threshold, y_pred_threshold, average='macro')\n",
    "        print(f\"f1 score: {f_score}\")\n",
    "        f_scores.append(f_score)\n",
    "        # supports.append(support)\n",
    "        accuracy, support = plotCM(y_true_threshold, y_pred_threshold, ax2, folders, threshold_value, plot_graph)    \n",
    "        acc.append(accuracy)\n",
    "        supports.append(support)\n",
    "        # plotThreshold(threshold_high_correct, threshold_high_wrong, threshold_low_correct, threshold_low_wrong, ax3, folders, threshold_value, plot_graph)\n",
    "        plt.savefig(\"./corn1/%s_cfm_%d.png\" % (folders, int(threshold_value * 10)), facecolor=\"white\")\n",
    "        \n",
    "    return acc, f_scores, supports\n"
   ]
  },
  {
   "cell_type": "markdown",
   "metadata": {},
   "source": [
    "### Testing different thresholds"
   ]
  },
  {
   "cell_type": "code",
   "execution_count": null,
   "metadata": {},
   "outputs": [],
   "source": [
    "accs = [0, 0.4, 0.5, 0.6, 0.7, 0.8, 0.9]\n",
    "fs = [0, 0.4, 0.5, 0.6, 0.7, 0.8, 0.9]\n",
    "sups = [0, 0.4, 0.5, 0.6, 0.7, 0.8, 0.9]\n"
   ]
  },
  {
   "cell_type": "code",
   "execution_count": null,
   "metadata": {},
   "outputs": [],
   "source": [
    "t = 0\n",
    "print(\"Threshold %f\" % (t))\n",
    "acc, f, sup = thresholdAnalysis(t, True)\n",
    "accs[0] = acc\n",
    "fs[0] = f\n",
    "sups[0] = sup"
   ]
  },
  {
   "cell_type": "code",
   "execution_count": null,
   "metadata": {},
   "outputs": [],
   "source": [
    "t = 0.4\n",
    "print(\"Threshold %f\" % (t))\n",
    "acc, f, sup = thresholdAnalysis(t, True)\n",
    "idx = 1\n",
    "accs[idx] = acc\n",
    "fs[idx] = f\n",
    "sups[idx] = sup"
   ]
  },
  {
   "cell_type": "code",
   "execution_count": null,
   "metadata": {},
   "outputs": [],
   "source": [
    "# a = thresholdAnalysis(0.5)\n",
    "t = 0.5\n",
    "print(\"Threshold %f\" % (t))\n",
    "acc, f, sup = thresholdAnalysis(t, True)\n",
    "idx = 2\n",
    "accs[idx] = acc\n",
    "fs[idx] = f\n",
    "sups[idx] = sup"
   ]
  },
  {
   "cell_type": "code",
   "execution_count": null,
   "metadata": {},
   "outputs": [],
   "source": [
    "# a = thresholdAnalysis(0.5)\n",
    "threshold = [0.5, 0.6, 0.7, 0.8, 0.9]\n",
    "t = 0.6\n",
    "print(\"Threshold %f\" % (t))\n",
    "acc, f, sup = thresholdAnalysis(t, True)\n",
    "idx = 3\n",
    "accs[idx] = acc\n",
    "fs[idx] = f\n",
    "sups[idx] = sup"
   ]
  },
  {
   "cell_type": "code",
   "execution_count": null,
   "metadata": {},
   "outputs": [],
   "source": [
    "# a = thresholdAnalysis(0.5)\n",
    "threshold = [0.5, 0.6, 0.7, 0.8, 0.9]\n",
    "t = 0.7\n",
    "print(\"Threshold %f\" % (t))\n",
    "acc, f, sup = thresholdAnalysis(t, True)\n",
    "idx = 4\n",
    "accs[idx] = acc\n",
    "fs[idx] = f\n",
    "sups[idx] = sup"
   ]
  },
  {
   "cell_type": "code",
   "execution_count": null,
   "metadata": {},
   "outputs": [],
   "source": [
    "# a = thresholdAnalysis(0.5)\n",
    "threshold = [0.5, 0.6, 0.7, 0.8, 0.9]\n",
    "t = 0.8\n",
    "print(\"Threshold %f\" % (t))\n",
    "acc, f, sup = thresholdAnalysis(t, True)\n",
    "idx = 5\n",
    "accs[idx] = acc\n",
    "fs[idx] = f\n",
    "sups[idx] = sup"
   ]
  },
  {
   "cell_type": "code",
   "execution_count": null,
   "metadata": {},
   "outputs": [],
   "source": [
    "t = 0.9\n",
    "print(\"Threshold %f\" % (t))\n",
    "acc, f, sup = thresholdAnalysis(t, True)\n",
    "idx = 6\n",
    "accs[idx] = acc\n",
    "fs[idx] = f\n",
    "sups[idx] = sup"
   ]
  },
  {
   "cell_type": "code",
   "execution_count": null,
   "metadata": {},
   "outputs": [],
   "source": [
    "a = np.array(accs)\n",
    "fm = np.array(fs)\n",
    "s = np.array(sups)\n",
    "print(accs)\n",
    "print(fm)\n",
    "print(sups)"
   ]
  },
  {
   "cell_type": "markdown",
   "metadata": {},
   "source": [
    "### Generate figures"
   ]
  },
  {
   "cell_type": "code",
   "execution_count": null,
   "metadata": {},
   "outputs": [],
   "source": [
    "t = [0, 0.4, 0.5, 0.6, 0.7, 0.8, 0.9]\n",
    "FIGURE_SAVE_PATH = \"./corn/\"\n",
    "for i, phase in enumerate(['train', 'val', 'test']):\n",
    "    plt.figure(\"%s phase\" % (phase))\n",
    "    plt.title(\"%s phase Accuracy & F1-macro vs. Thresholds\" % (phase))\n",
    "    plt.plot(t, a[:, i], label=\"accuracy\")\n",
    "    plt.plot(t, fm[:, i], label=\"macro-f1\")\n",
    "    plt.xlabel(\"Threshold value\")\n",
    "    plt.ylabel(\"Accuracy\")\n",
    "    plt.legend()\n",
    "    plt.savefig(f\".{FIGURE_SAVE_PATH}_graph_{phase}_acc_macro.png\", facecolor=\"white\")\n",
    "    plt.show()\n",
    "\n",
    "\n",
    "    plt.figure()\n",
    "    plt.title(\"%s phase Support vs. Thresholds\" % (phase))\n",
    "    plt.plot(t, s[:, i], label=\"support\")\n",
    "    plt.xlabel(\"Threshold value\")\n",
    "    plt.ylabel(\"Support\")\n",
    "    plt.savefig(f\".{FIGURE_SAVE_PATH}_graph_{phase}_support.png\" , facecolor=\"white\")\n",
    "    plt.legend()\n",
    "    # plt.plot(t, s[:, i])\n",
    "    plt.show()\n",
    "    print(a[:, i])\n",
    "    print(fm[:, i])\n",
    "    print(s[:, i])\n",
    "\n"
   ]
  }
 ],
 "metadata": {
  "interpreter": {
   "hash": "31f2aee4e71d21fbe5cf8b01ff0e069b9275f58929596ceb00d14d90e3e16cd6"
  },
  "kernelspec": {
   "display_name": "Python 3.7.10 64-bit",
   "language": "python",
   "name": "python3"
  },
  "language_info": {
   "codemirror_mode": {
    "name": "ipython",
    "version": 3
   },
   "file_extension": ".py",
   "mimetype": "text/x-python",
   "name": "python",
   "nbconvert_exporter": "python",
   "pygments_lexer": "ipython3",
   "version": "3.7.10"
  },
  "orig_nbformat": 4
 },
 "nbformat": 4,
 "nbformat_minor": 2
}
