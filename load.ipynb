{
 "cells": [
  {
   "cell_type": "markdown",
   "metadata": {},
   "source": [
    "# Load Results"
   ]
  },
  {
   "cell_type": "markdown",
   "metadata": {},
   "source": [
    "## Import packages"
   ]
  },
  {
   "cell_type": "code",
   "execution_count": null,
   "metadata": {},
   "outputs": [],
   "source": [
    "import torch\n",
    "import torch.nn as nn\n",
    "import torch.optim as optim\n",
    "from torch.optim import lr_scheduler\n",
    "import numpy as np\n",
    "import torchvision\n",
    "from torchvision import datasets, models, transforms\n",
    "import matplotlib.pyplot as plt\n",
    "import time\n",
    "import os\n",
    "import copy\n",
    "from sklearn.metrics import confusion_matrix\n",
    "import seaborn as sn\n",
    "import pandas as pd\n",
    "import gc\n",
    "gc.collect()\n",
    "\n",
    "# Change this to your own weight dir\n",
    "WEIGHT_DIR = './model_weight/corn_model_resize_wd.pth'\n",
    "# Change this to your data dir\n",
    "DATA_DIR = './corn_dataset'"
   ]
  },
  {
   "cell_type": "code",
   "execution_count": null,
   "metadata": {},
   "outputs": [],
   "source": [
    "torch.cuda.empty_cache()"
   ]
  },
  {
   "cell_type": "markdown",
   "metadata": {},
   "source": [
    "## Load Models"
   ]
  },
  {
   "cell_type": "code",
   "execution_count": null,
   "metadata": {},
   "outputs": [],
   "source": [
    "# load Resnet pretrained model\n",
    "model_ft = models.resnet18(pretrained=True)\n",
    "num_ftrs = model_ft.fc.in_features\n",
    "\n",
    "# freeze certain parameters\n",
    "for module, param in zip(model_ft.modules(), model_ft.parameters()):\n",
    "\tif isinstance(module, nn.BatchNorm2d):\n",
    "\t\tparam.requires_grad = False\n",
    "\n",
    "# tune the last layers\n",
    "num_ftrs = model_ft.fc.in_features\n",
    "model_ft.fc = nn.Linear(num_ftrs, 4)\n",
    "\n",
    "# load the weights\n",
    "model_ft.load_state_dict(torch.load(WEIGHT_DIR))\n",
    "model_ft.eval()\n"
   ]
  },
  {
   "cell_type": "markdown",
   "metadata": {},
   "source": [
    "## Load Images"
   ]
  },
  {
   "cell_type": "code",
   "execution_count": null,
   "metadata": {},
   "outputs": [],
   "source": [
    "image_data_dir = DATA_DIR\n",
    "# Resize only\n",
    "image_data_transforms = transforms.Compose([\n",
    "    transforms.Resize((256, 256)),\n",
    "    transforms.ToTensor(),\n",
    "    transforms.Normalize([0.485, 0.456, 0.406], [0.229, 0.224, 0.225])\n",
    "])\n",
    "\n",
    "image_data_loader = torch.utils.data.DataLoader(datasets.ImageFolder(image_data_dir, image_data_transforms), batch_size=4,shuffle=True, num_workers=4)"
   ]
  },
  {
   "cell_type": "markdown",
   "metadata": {},
   "source": [
    "GPU Support"
   ]
  },
  {
   "cell_type": "code",
   "execution_count": null,
   "metadata": {},
   "outputs": [],
   "source": [
    "device = torch.device(\"cuda:0\" if torch.cuda.is_available() else \"cpu\")\n",
    "model_ft.to(device)"
   ]
  },
  {
   "cell_type": "markdown",
   "metadata": {},
   "source": [
    "## Confusion Matrices"
   ]
  },
  {
   "cell_type": "code",
   "execution_count": null,
   "metadata": {},
   "outputs": [],
   "source": [
    "y_pred = []\n",
    "y_true = []\n",
    "\n",
    "# iterate over test data\n",
    "for inputs, labels in image_data_loader:\n",
    "        output = model_ft(inputs.to(device)) # Feed Network\n",
    "\n",
    "        output = (torch.max(torch.exp(output), 1)[1]).data.cpu().numpy()\n",
    "        y_pred.extend(output) # Save Prediction\n",
    "        \n",
    "        labels = labels.data.cpu().numpy()\n",
    "        y_true.extend(labels) # Save Truth"
   ]
  },
  {
   "cell_type": "code",
   "execution_count": null,
   "metadata": {},
   "outputs": [],
   "source": [
    "classes = ('grass', 'high_tillage', 'low_tillage', 'no_tillage')\n",
    "\n",
    "# Build confusion matrix\n",
    "cf_matrix = confusion_matrix(y_true, y_pred)\n",
    "print(cf_matrix)\n",
    "\n",
    "df_cm = pd.DataFrame((cf_matrix.T/np.sum(cf_matrix, axis=1)).T, index = [i for i in classes],\n",
    "                        columns = [i for i in classes])\n",
    "ax = plt.axes()\n",
    "print(df_cm)\n",
    "ax.set_title('Confusion Matrix: Tillage Classification')\n",
    "sn.heatmap(df_cm, ax=ax, annot=True)"
   ]
  },
  {
   "cell_type": "markdown",
   "metadata": {},
   "source": [
    "## Print out results"
   ]
  },
  {
   "cell_type": "code",
   "execution_count": null,
   "metadata": {},
   "outputs": [],
   "source": [
    "import PIL\n",
    "\n",
    "image_dir = DATA_DIR[:-1]\n",
    "SHOW_FIGURE = False\n",
    "class_map = {\n",
    "    0: 'grass',\n",
    "    1: 'high_tillage',\n",
    "    2: 'low_tillage',\n",
    "    3: 'no_tillage'\n",
    "}\n",
    "for phase in os.listdir(image_dir):\n",
    "    for classes in os.listdir(image_dir + \"/\" + phase):\n",
    "        for file in os.listdir(image_dir + \"/\" + \"/\" + phase + \"/\" + classes):\n",
    "            fullpath = image_dir + \"/\" + \"/\" + phase + \"/\" + classes + \"/\" + file\n",
    "            im = PIL.Image.open(fullpath)\n",
    "            image = image_data_transforms(im)\n",
    "            image = image.unsqueeze(0)\n",
    "            image = image.to(device)\n",
    "            # predict the image class\n",
    "            out = model_ft(image)\n",
    "            output = class_map[(torch.max(torch.exp(out), 1)[1]).data.cpu().numpy()[0]]\n",
    "            # if predicted wrong\n",
    "            if output != classes:\n",
    "                print(\"Full path: \", fullpath)\n",
    "                print(\"True: \", classes)\n",
    "                print(\"Predicted: \", output)\n",
    "                print(\"Probability: \", torch.exp(out).data.cpu().numpy()[0])\n",
    "                if SHOW_FIGURE:\n",
    "                    plt.figure()\n",
    "                    plt.imshow(im)\n",
    "                    plt.show()\n",
    "                print(\"\\n\")\n",
    "\n"
   ]
  }
 ],
 "metadata": {
  "interpreter": {
   "hash": "b0fa6594d8f4cbf19f97940f81e996739fb7646882a419484c72d19e05852a7e"
  },
  "kernelspec": {
   "display_name": "Python 3.9.12 64-bit",
   "language": "python",
   "name": "python3"
  },
  "language_info": {
   "codemirror_mode": {
    "name": "ipython",
    "version": 3
   },
   "file_extension": ".py",
   "mimetype": "text/x-python",
   "name": "python",
   "nbconvert_exporter": "python",
   "pygments_lexer": "ipython3",
   "version": "3.9.12"
  },
  "orig_nbformat": 4
 },
 "nbformat": 4,
 "nbformat_minor": 2
}
